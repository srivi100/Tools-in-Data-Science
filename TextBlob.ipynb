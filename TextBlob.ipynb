{
  "nbformat": 4,
  "nbformat_minor": 0,
  "metadata": {
    "colab": {
      "provenance": [],
      "authorship_tag": "ABX9TyPMjSFIw5FROL3PnvjlKerB",
      "include_colab_link": true
    },
    "kernelspec": {
      "name": "python3",
      "display_name": "Python 3"
    },
    "language_info": {
      "name": "python"
    }
  },
  "cells": [
    {
      "cell_type": "markdown",
      "metadata": {
        "id": "view-in-github",
        "colab_type": "text"
      },
      "source": [
        "<a href=\"https://colab.research.google.com/github/srivi100/Tools-in-Data-Science/blob/main/TextBlob.ipynb\" target=\"_parent\"><img src=\"https://colab.research.google.com/assets/colab-badge.svg\" alt=\"Open In Colab\"/></a>"
      ]
    },
    {
      "cell_type": "code",
      "execution_count": 1,
      "metadata": {
        "colab": {
          "base_uri": "https://localhost:8080/"
        },
        "id": "0nkCjHnZojso",
        "outputId": "2a6b19cc-a77e-4db8-8b02-e6f9fbf06d59"
      },
      "outputs": [
        {
          "output_type": "stream",
          "name": "stdout",
          "text": [
            "0.675\n"
          ]
        }
      ],
      "source": [
        "from textblob import TextBlob\n",
        "\n",
        "text = \"HAHAHHA lol true that! i always remember my BD but i can never remember what date or even day it is\"\n",
        "\n",
        "# Create a TextBlob object\n",
        "blob = TextBlob(text)\n",
        "\n",
        "# Get the subjectivity score\n",
        "subjectivity_score = blob.sentiment.subjectivity\n",
        "\n",
        "print(subjectivity_score)\n"
      ]
    },
    {
      "cell_type": "code",
      "source": [
        "from textblob import TextBlob\n",
        "\n",
        "text = \"SF felt WAY too intense for me tonight. Hope that doesn`t keep up. Upset with myself for not hanging with and pearl\"\n",
        "\n",
        "# Create a TextBlob object\n",
        "blob = TextBlob(text)\n",
        "\n",
        "# Get the polarity score\n",
        "polarity_score = blob.sentiment.polarity\n",
        "\n",
        "print(polarity_score)\n"
      ],
      "metadata": {
        "colab": {
          "base_uri": "https://localhost:8080/"
        },
        "id": "NW4sMq7NosEJ",
        "outputId": "387a07c9-cfa9-4537-e75c-f5d191aa30c8"
      },
      "execution_count": 2,
      "outputs": [
        {
          "output_type": "stream",
          "name": "stdout",
          "text": [
            "0.2\n"
          ]
        }
      ]
    },
    {
      "cell_type": "code",
      "source": [
        "from textblob import TextBlob\n",
        "\n",
        "text = \"Always thinking about to look for a good place to appreciate everyone who supports me on every site I joined\"\n",
        "\n",
        "# Create a TextBlob object\n",
        "blob = TextBlob(text)\n",
        "\n",
        "# Get the sentiment polarity score\n",
        "sentiment_polarity = blob.sentiment.polarity\n",
        "\n",
        "# Determine the sentiment\n",
        "if sentiment_polarity > 0:\n",
        "    sentiment = \"Positive\"\n",
        "elif sentiment_polarity < 0:\n",
        "    sentiment = \"Negative\"\n",
        "else:\n",
        "    sentiment = \"Neutral\"\n",
        "\n",
        "print(\"Sentiment: {}\".format(sentiment))\n"
      ],
      "metadata": {
        "colab": {
          "base_uri": "https://localhost:8080/"
        },
        "id": "qFPBOMUrpASM",
        "outputId": "fcdb882d-9f44-42c6-be56-58dfdf1bae50"
      },
      "execution_count": 3,
      "outputs": [
        {
          "output_type": "stream",
          "name": "stdout",
          "text": [
            "Sentiment: Positive\n"
          ]
        }
      ]
    }
  ]
}